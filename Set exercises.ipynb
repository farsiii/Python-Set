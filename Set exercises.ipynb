{
 "cells": [
  {
   "cell_type": "code",
   "execution_count": 8,
   "id": "8350e7bf",
   "metadata": {},
   "outputs": [
    {
     "ename": "SyntaxError",
     "evalue": "invalid non-printable character U+00A0 (1289167250.py, line 4)",
     "output_type": "error",
     "traceback": [
      "\u001b[1;36m  File \u001b[1;32m\"C:\\Users\\Farseen\\AppData\\Local\\Temp\\ipykernel_11216\\1289167250.py\"\u001b[1;36m, line \u001b[1;32m4\u001b[0m\n\u001b[1;33m    print(a.intersection(b))\u001b[0m\n\u001b[1;37m                            ^\u001b[0m\n\u001b[1;31mSyntaxError\u001b[0m\u001b[1;31m:\u001b[0m invalid non-printable character U+00A0\n"
     ]
    }
   ],
   "source": [
    "#checking common elelments\n",
    "a={1,2,3,4} \n",
    "b={5,2,4,9,1,6}\n",
    "print(a.intersection(b)) "
   ]
  },
  {
   "cell_type": "code",
   "execution_count": 3,
   "id": "4e672633",
   "metadata": {},
   "outputs": [
    {
     "name": "stdout",
     "output_type": "stream",
     "text": [
      "0\n"
     ]
    }
   ],
   "source": [
    "#difference between 2 sets \n",
    "a={1,2,3,4,'a'} \n",
    "b={'a',\"b\",\"c\",\"d\",4}\n",
    "print(len(a)-len(b))"
   ]
  },
  {
   "cell_type": "code",
   "execution_count": 7,
   "id": "ba45df9e",
   "metadata": {},
   "outputs": [
    {
     "name": "stdout",
     "output_type": "stream",
     "text": [
      "{1, 2, 3, 6, 7, 8, 9}\n"
     ]
    }
   ],
   "source": [
    "#symmetric difference between 2 sets \n",
    "a={1,2,3,4,5}\n",
    "b={4,5,6,7,8,9}\n",
    "print(a.symmetric_difference(b))"
   ]
  },
  {
   "cell_type": "code",
   "execution_count": 6,
   "id": "b1864b64",
   "metadata": {},
   "outputs": [
    {
     "name": "stdout",
     "output_type": "stream",
     "text": [
      "{1, 2, 3, 4}\n"
     ]
    }
   ],
   "source": [
    "# create a set from a list and remove duplicates\n",
    "a=(1,2,3,3,4)\n",
    "print(set(a))\n"
   ]
  },
  {
   "cell_type": "code",
   "execution_count": 9,
   "id": "654b07eb",
   "metadata": {},
   "outputs": [
    {
     "name": "stdout",
     "output_type": "stream",
     "text": [
      "{1, 2, 6, 7, 8, 9}\n"
     ]
    }
   ],
   "source": [
    "#creatte a set with all the elements in from 2 sets, exclude common ones \n",
    "a={1,3,2,3,4,5}\n",
    "b={3,4,5,6,7,8,9}\n",
    "print(a.symmetric_difference(b))"
   ]
  },
  {
   "cell_type": "code",
   "execution_count": 11,
   "id": "d159e0ee",
   "metadata": {},
   "outputs": [
    {
     "name": "stdout",
     "output_type": "stream",
     "text": [
      "its not\n"
     ]
    }
   ],
   "source": [
    "# check whether b is a subset of a a={1,3,2,3,4,'a'}\n",
    "b={'a',3,2}\n",
    "if len(b-a)==0:\n",
    "    print(\"b is a subset of a\")\n",
    "else:\n",
    "    print(\"its not\")"
   ]
  },
  {
   "cell_type": "code",
   "execution_count": 12,
   "id": "b80357bc",
   "metadata": {},
   "outputs": [
    {
     "name": "stdout",
     "output_type": "stream",
     "text": [
      "min: 1\n",
      "max: 9\n"
     ]
    }
   ],
   "source": [
    "# find maximum and minimum values in a set \n",
    "a={1,2,3,2,3,4,9}\n",
    "print(\"min:\",min(a))\n",
    "print(\"max:\",max(a))"
   ]
  },
  {
   "cell_type": "code",
   "execution_count": 14,
   "id": "7dc2f90f",
   "metadata": {},
   "outputs": [
    {
     "name": "stdout",
     "output_type": "stream",
     "text": [
      "None\n"
     ]
    }
   ],
   "source": [
    "# remove all elements from a set \n",
    "set1={1,3,2,3,4,}\n",
    "print(set1.clear())"
   ]
  },
  {
   "cell_type": "code",
   "execution_count": 16,
   "id": "3281854e",
   "metadata": {},
   "outputs": [
    {
     "name": "stdout",
     "output_type": "stream",
     "text": [
      "{1, 2, 3, 4, 9}\n",
      "final result: {1, 2, 3, 4, 'a', 'b', 9, 'c', 'd'}\n"
     ]
    }
   ],
   "source": [
    "# update a set with union of a set with itself and another set \n",
    "x={1,2,3,4,\"a\"}\n",
    "y={\"a\",\"b\",\"c\",\"d\",4}\n",
    "c=a.union(a)\n",
    "print(c)\n",
    "c.update(y) \n",
    "print(\"final result:\",c)"
   ]
  },
  {
   "cell_type": "code",
   "execution_count": 18,
   "id": "16bc98fb",
   "metadata": {},
   "outputs": [
    {
     "ename": "SyntaxError",
     "evalue": "invalid non-printable character U+00A0 (4083448065.py, line 7)",
     "output_type": "error",
     "traceback": [
      "\u001b[1;36m  File \u001b[1;32m\"C:\\Users\\Farseen\\AppData\\Local\\Temp\\ipykernel_11216\\4083448065.py\"\u001b[1;36m, line \u001b[1;32m7\u001b[0m\n\u001b[1;33m    i=i+1\u001b[0m\n\u001b[1;37m         ^\u001b[0m\n\u001b[1;31mSyntaxError\u001b[0m\u001b[1;31m:\u001b[0m invalid non-printable character U+00A0\n"
     ]
    }
   ],
   "source": [
    "# find the sum of all elements\n",
    "b={1,2,3,4}\n",
    "a=tuple(b)\n",
    "i=0\n",
    "sum=0\n",
    "while i<len(a):\n",
    "    sum+=a[i]\n",
    "    i=i+1 \n",
    "print(sum)"
   ]
  },
  {
   "cell_type": "code",
   "execution_count": null,
   "id": "aac28677",
   "metadata": {},
   "outputs": [],
   "source": []
  }
 ],
 "metadata": {
  "kernelspec": {
   "display_name": "Python 3 (ipykernel)",
   "language": "python",
   "name": "python3"
  },
  "language_info": {
   "codemirror_mode": {
    "name": "ipython",
    "version": 3
   },
   "file_extension": ".py",
   "mimetype": "text/x-python",
   "name": "python",
   "nbconvert_exporter": "python",
   "pygments_lexer": "ipython3",
   "version": "3.9.13"
  }
 },
 "nbformat": 4,
 "nbformat_minor": 5
}
